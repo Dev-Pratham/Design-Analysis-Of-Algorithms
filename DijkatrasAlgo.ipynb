{
 "cells": [
  {
   "cell_type": "code",
   "execution_count": 1,
   "id": "1bdbd0ad-1f66-45a4-adcd-7dda9c58c5d8",
   "metadata": {},
   "outputs": [
    {
     "name": "stdout",
     "output_type": "stream",
     "text": [
      "Shortest paths from node A:\n",
      "To A: 0\n",
      "To B: 2\n",
      "To C: 3\n",
      "To D: 5\n",
      "To E: 6\n"
     ]
    }
   ],
   "source": [
    "import heapq\n",
    "\n",
    "def dijkstra(graph, start):\n",
    "    # Initialize distances with infinity and set start node distance to 0\n",
    "    distances = {node: float('infinity') for node in graph}\n",
    "    distances[start] = 0\n",
    "    \n",
    "    # Priority queue: (distance, node)\n",
    "    priority_queue = [(0, start)]\n",
    "    \n",
    "    while priority_queue:\n",
    "        current_distance, current_node = heapq.heappop(priority_queue)\n",
    "        \n",
    "        # Skip if we've already found a better path\n",
    "        if current_distance > distances[current_node]:\n",
    "            continue\n",
    "        \n",
    "        # Explore neighbors\n",
    "        for neighbor, weight in graph[current_node].items():\n",
    "            distance = current_distance + weight\n",
    "            \n",
    "            # Only consider this new path if it's better\n",
    "            if distance < distances[neighbor]:\n",
    "                distances[neighbor] = distance\n",
    "                heapq.heappush(priority_queue, (distance, neighbor))\n",
    "    \n",
    "    return distances\n",
    "\n",
    "# Example usage\n",
    "if __name__ == \"__main__\":\n",
    "    # Graph representation: adjacency list with {neighbor: weight}\n",
    "    graph = {\n",
    "        'A': {'B': 2, 'C': 5},\n",
    "        'B': {'A': 2, 'C': 1, 'D': 3},\n",
    "        'C': {'A': 5, 'B': 1, 'D': 2, 'E': 4},\n",
    "        'D': {'B': 3, 'C': 2, 'E': 1},\n",
    "        'E': {'C': 4, 'D': 1}\n",
    "    }\n",
    "    \n",
    "    start_node = 'A'\n",
    "    shortest_paths = dijkstra(graph, start_node)\n",
    "    \n",
    "    print(f\"Shortest paths from node {start_node}:\")\n",
    "    for node, distance in shortest_paths.items():\n",
    "        print(f\"To {node}: {distance}\")"
   ]
  },
  {
   "cell_type": "code",
   "execution_count": null,
   "id": "36f88671-9370-40b5-b400-96a057d1158a",
   "metadata": {},
   "outputs": [],
   "source": []
  }
 ],
 "metadata": {
  "kernelspec": {
   "display_name": "Python 3 (ipykernel)",
   "language": "python",
   "name": "python3"
  },
  "language_info": {
   "codemirror_mode": {
    "name": "ipython",
    "version": 3
   },
   "file_extension": ".py",
   "mimetype": "text/x-python",
   "name": "python",
   "nbconvert_exporter": "python",
   "pygments_lexer": "ipython3",
   "version": "3.11.8"
  }
 },
 "nbformat": 4,
 "nbformat_minor": 5
}
