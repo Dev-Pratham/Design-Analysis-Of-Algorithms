{
 "cells": [
  {
   "cell_type": "code",
   "execution_count": 1,
   "id": "0d989a8d-5057-47a9-919c-1538c93bf2d7",
   "metadata": {},
   "outputs": [
    {
     "name": "stdout",
     "output_type": "stream",
     "text": [
      "Available activities (start, finish):\n",
      "(1, 4) (3, 5) (0, 6) (5, 7) (3, 8) (5, 9) (6, 10) (8, 11) (8, 12) (2, 13) (12, 14) \n",
      "\n",
      "Selected activities (start, finish):\n",
      "(1, 4) (5, 7) (8, 11) (12, 14) \n",
      "\n",
      "Total activities selected: 4\n"
     ]
    }
   ],
   "source": [
    "\n",
    "# Given a set of activities with their start and finish times, select \n",
    "# the maximum number of activities that can be performed by a single person or machine, \n",
    "# assuming they can't handle more than one activity at the same time.\n",
    "\n",
    "\n",
    "\n",
    "def activity_selection(activities):\n",
    "    # Sort activities by their finish time\n",
    "    sorted_activities = sorted(activities, key=lambda x: x[1])\n",
    "    \n",
    "    selected = []\n",
    "    # The first activity is always selected\n",
    "    last_finish = sorted_activities[0][1]\n",
    "    selected.append(sorted_activities[0])\n",
    "    \n",
    "    # Check rest of the activities\n",
    "    for activity in sorted_activities[1:]:\n",
    "        start, finish = activity\n",
    "        # If this activity starts after last selected finishes, select it\n",
    "        if start >= last_finish:\n",
    "            selected.append(activity)\n",
    "            last_finish = finish\n",
    "    \n",
    "    return selected\n",
    "\n",
    "# Example usage\n",
    "if __name__ == \"__main__\":\n",
    "    # List of activities with (start_time, finish_time)\n",
    "    activities = [\n",
    "        (1, 4), (3, 5), (0, 6), (5, 7),\n",
    "        (3, 8), (5, 9), (6, 10), (8, 11),\n",
    "        (8, 12), (2, 13), (12, 14)\n",
    "    ]\n",
    "    \n",
    "    print(\"Available activities (start, finish):\")\n",
    "    for act in activities:\n",
    "        print(act, end=\" \")\n",
    "    \n",
    "    selected = activity_selection(activities)\n",
    "    \n",
    "    print(\"\\n\\nSelected activities (start, finish):\")\n",
    "    for act in selected:\n",
    "        print(act, end=\" \")\n",
    "    \n",
    "    print(f\"\\n\\nTotal activities selected: {len(selected)}\")"
   ]
  },
  {
   "cell_type": "code",
   "execution_count": null,
   "id": "2a2e9ad9-a048-412e-ba79-3bdaf9634a32",
   "metadata": {},
   "outputs": [],
   "source": []
  }
 ],
 "metadata": {
  "kernelspec": {
   "display_name": "Python 3 (ipykernel)",
   "language": "python",
   "name": "python3"
  },
  "language_info": {
   "codemirror_mode": {
    "name": "ipython",
    "version": 3
   },
   "file_extension": ".py",
   "mimetype": "text/x-python",
   "name": "python",
   "nbconvert_exporter": "python",
   "pygments_lexer": "ipython3",
   "version": "3.11.8"
  }
 },
 "nbformat": 4,
 "nbformat_minor": 5
}
