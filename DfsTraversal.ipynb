{
 "cells": [
  {
   "cell_type": "code",
   "execution_count": 7,
   "id": "4a7ab7c1-9278-441f-8100-d5efaba2d161",
   "metadata": {},
   "outputs": [
    {
     "name": "stdout",
     "output_type": "stream",
     "text": [
      "{'A': ['B', 'C', 'D'], 'B': ['E'], 'C': ['D', 'E'], 'D': ['A', 'C'], 'E': ['B', 'C']}\n",
      "A\n",
      "B\n",
      "E\n",
      "C\n",
      "D\n"
     ]
    }
   ],
   "source": [
    "# graph={'A':['B','C','D'],'B':['E'],'C':['D','E'],'D':[],'E':[]}\n",
    "graph={'A':['B','C','D'],'B':['E'],'C':['D','E'],'D':['A','C'],'E':['B','C']}\n",
    "\n",
    "print(graph)\n",
    "visited=set()\n",
    "\n",
    "def dfs(visited,graph,root):\n",
    "    if root not in visited:\n",
    "        print(root)\n",
    "        visited.add(root)\n",
    "        for neighbours in graph[root]:\n",
    "            dfs(visited,graph,neighbours)\n",
    "\n",
    "dfs(visited,graph,'A')"
   ]
  },
  {
   "cell_type": "code",
   "execution_count": null,
   "id": "42a97d27-29b3-435f-8ce4-226b8914d323",
   "metadata": {},
   "outputs": [],
   "source": []
  }
 ],
 "metadata": {
  "kernelspec": {
   "display_name": "Python 3 (ipykernel)",
   "language": "python",
   "name": "python3"
  },
  "language_info": {
   "codemirror_mode": {
    "name": "ipython",
    "version": 3
   },
   "file_extension": ".py",
   "mimetype": "text/x-python",
   "name": "python",
   "nbconvert_exporter": "python",
   "pygments_lexer": "ipython3",
   "version": "3.11.8"
  }
 },
 "nbformat": 4,
 "nbformat_minor": 5
}
