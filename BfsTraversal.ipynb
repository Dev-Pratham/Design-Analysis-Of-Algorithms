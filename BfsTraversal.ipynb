{
 "cells": [
  {
   "cell_type": "code",
   "execution_count": 1,
   "id": "9951d6d0-6089-4135-a23a-f67174c6543a",
   "metadata": {},
   "outputs": [
    {
     "name": "stdout",
     "output_type": "stream",
     "text": [
      "A\n",
      "B\n",
      "C\n",
      "D\n",
      "E\n"
     ]
    }
   ],
   "source": [
    "graph = {\n",
    "    'A': ['B', 'C', 'D'],\n",
    "    'B': ['E'],\n",
    "    'C': ['D', 'E'],\n",
    "    'D': ['A', 'C'],\n",
    "    'E': ['B', 'C']\n",
    "}\n",
    "\n",
    "def bfs(graph, root):\n",
    "    visited = set()\n",
    "    queue = [root]\n",
    "\n",
    "    while queue:\n",
    "        node = queue.pop(0)  # FIFO behavior\n",
    "        if node not in visited:\n",
    "            print(node)\n",
    "            visited.add(node)\n",
    "            for neighbour in graph[node]:\n",
    "                if neighbour not in visited:\n",
    "                    queue.append(neighbour)\n",
    "\n",
    "bfs(graph, 'A')\n"
   ]
  },
  {
   "cell_type": "code",
   "execution_count": null,
   "id": "1ac28c7b-9d0d-4794-9777-88b937f2d27d",
   "metadata": {},
   "outputs": [],
   "source": []
  }
 ],
 "metadata": {
  "kernelspec": {
   "display_name": "Python 3 (ipykernel)",
   "language": "python",
   "name": "python3"
  },
  "language_info": {
   "codemirror_mode": {
    "name": "ipython",
    "version": 3
   },
   "file_extension": ".py",
   "mimetype": "text/x-python",
   "name": "python",
   "nbconvert_exporter": "python",
   "pygments_lexer": "ipython3",
   "version": "3.11.8"
  }
 },
 "nbformat": 4,
 "nbformat_minor": 5
}
