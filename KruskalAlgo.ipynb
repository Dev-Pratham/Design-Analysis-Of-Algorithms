{
 "cells": [
  {
   "cell_type": "code",
   "execution_count": 1,
   "id": "58c27d06-ffa3-4bed-890c-18dcba4aa1f9",
   "metadata": {},
   "outputs": [
    {
     "name": "stdout",
     "output_type": "stream",
     "text": [
      "Minimum Spanning Tree Edges:\n",
      "C -- D (weight: 1)\n",
      "A -- B (weight: 2)\n",
      "D -- E (weight: 2)\n",
      "B -- C (weight: 3)\n",
      "\n",
      "Total weight of MST: 8\n"
     ]
    }
   ],
   "source": [
    "class DisjointSet:\n",
    "    def __init__(self, vertices):\n",
    "        self.parent = {v: v for v in vertices}\n",
    "        self.rank = {v: 0 for v in vertices}\n",
    "    \n",
    "    def find(self, item):\n",
    "        if self.parent[item] != item:\n",
    "            self.parent[item] = self.find(self.parent[item])  # Path compression\n",
    "        return self.parent[item]\n",
    "    \n",
    "    def union(self, set1, set2):\n",
    "        root1 = self.find(set1)\n",
    "        root2 = self.find(set2)\n",
    "        \n",
    "        if root1 != root2:\n",
    "            # Union by rank\n",
    "            if self.rank[root1] > self.rank[root2]:\n",
    "                self.parent[root2] = root1\n",
    "            else:\n",
    "                self.parent[root1] = root2\n",
    "                if self.rank[root1] == self.rank[root2]:\n",
    "                    self.rank[root2] += 1\n",
    "\n",
    "def kruskal_mst(graph):\n",
    "    mst = []  # Stores the edges of the MST\n",
    "    edges = []\n",
    "    \n",
    "    # Convert the graph to a list of edges\n",
    "    for u in graph:\n",
    "        for v, weight in graph[u]:\n",
    "            edges.append((weight, u, v))\n",
    "    \n",
    "    # Sort edges by weight\n",
    "    edges.sort()\n",
    "    \n",
    "    # Initialize disjoint set\n",
    "    vertices = list(graph.keys())\n",
    "    ds = DisjointSet(vertices)\n",
    "    \n",
    "    for edge in edges:\n",
    "        weight, u, v = edge\n",
    "        if ds.find(u) != ds.find(v):\n",
    "            mst.append((u, v, weight))\n",
    "            ds.union(u, v)\n",
    "    \n",
    "    return mst\n",
    "\n",
    "# Example usage\n",
    "if __name__ == \"__main__\":\n",
    "    # Graph representation: adjacency list with (neighbor, weight)\n",
    "    graph = {\n",
    "        'A': [('B', 2), ('D', 5)],\n",
    "        'B': [('A', 2), ('C', 3), ('D', 3)],\n",
    "        'C': [('B', 3), ('D', 1), ('E', 5)],\n",
    "        'D': [('A', 5), ('B', 3), ('C', 1), ('E', 2)],\n",
    "        'E': [('C', 5), ('D', 2)]\n",
    "    }\n",
    "    \n",
    "    mst = kruskal_mst(graph)\n",
    "    print(\"Minimum Spanning Tree Edges:\")\n",
    "    for edge in mst:\n",
    "        print(f\"{edge[0]} -- {edge[1]} (weight: {edge[2]})\")\n",
    "    \n",
    "    total_weight = sum(edge[2] for edge in mst)\n",
    "    print(f\"\\nTotal weight of MST: {total_weight}\")"
   ]
  },
  {
   "cell_type": "code",
   "execution_count": null,
   "id": "e39861d4-6efb-4836-930a-f6e6af22ab46",
   "metadata": {},
   "outputs": [],
   "source": []
  }
 ],
 "metadata": {
  "kernelspec": {
   "display_name": "Python 3 (ipykernel)",
   "language": "python",
   "name": "python3"
  },
  "language_info": {
   "codemirror_mode": {
    "name": "ipython",
    "version": 3
   },
   "file_extension": ".py",
   "mimetype": "text/x-python",
   "name": "python",
   "nbconvert_exporter": "python",
   "pygments_lexer": "ipython3",
   "version": "3.11.8"
  }
 },
 "nbformat": 4,
 "nbformat_minor": 5
}
