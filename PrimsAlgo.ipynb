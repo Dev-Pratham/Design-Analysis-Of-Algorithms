{
 "cells": [
  {
   "cell_type": "code",
   "execution_count": 1,
   "id": "8a299dcb-f220-498e-b793-dcea50bb7c3f",
   "metadata": {},
   "outputs": [
    {
     "name": "stdout",
     "output_type": "stream",
     "text": [
      "Minimum Spanning Tree Edges:\n",
      "A -- B (weight: 2)\n",
      "B -- C (weight: 3)\n",
      "C -- D (weight: 1)\n",
      "D -- E (weight: 2)\n",
      "\n",
      "Total weight of MST: 8\n"
     ]
    }
   ],
   "source": [
    "import heapq\n",
    "\n",
    "def prim_mst(graph):\n",
    "    # Initialize variables\n",
    "    mst = []  # Stores the edges of the MST\n",
    "    visited = set()  # Tracks visited vertices\n",
    "    heap = []  # Min-heap for selecting the next edge\n",
    "    \n",
    "    # Start with an arbitrary vertex (we'll choose the first one)\n",
    "    start_vertex = list(graph.keys())[0]\n",
    "    visited.add(start_vertex)\n",
    "    \n",
    "    # Add all edges from the start vertex to the heap\n",
    "    for neighbor, weight in graph[start_vertex]:\n",
    "        heapq.heappush(heap, (weight, start_vertex, neighbor))\n",
    "    \n",
    "    # Continue until all vertices are visited\n",
    "    while heap and len(visited) < len(graph):\n",
    "        weight, u, v = heapq.heappop(heap)\n",
    "        \n",
    "        if v not in visited:\n",
    "            visited.add(v)\n",
    "            mst.append((u, v, weight))\n",
    "            \n",
    "            # Add all edges from the new vertex to the heap\n",
    "            for neighbor, weight in graph[v]:\n",
    "                if neighbor not in visited:\n",
    "                    heapq.heappush(heap, (weight, v, neighbor))\n",
    "    \n",
    "    return mst\n",
    "\n",
    "# Example usage\n",
    "if __name__ == \"__main__\":\n",
    "    # Graph representation: adjacency list with (neighbor, weight)\n",
    "    graph = {\n",
    "        'A': [('B', 2), ('D', 5)],\n",
    "        'B': [('A', 2), ('C', 3), ('D', 3)],\n",
    "        'C': [('B', 3), ('D', 1), ('E', 5)],\n",
    "        'D': [('A', 5), ('B', 3), ('C', 1), ('E', 2)],\n",
    "        'E': [('C', 5), ('D', 2)]\n",
    "    }\n",
    "    \n",
    "    mst = prim_mst(graph)\n",
    "    print(\"Minimum Spanning Tree Edges:\")\n",
    "    for edge in mst:\n",
    "        print(f\"{edge[0]} -- {edge[1]} (weight: {edge[2]})\")\n",
    "    \n",
    "    total_weight = sum(edge[2] for edge in mst)\n",
    "    print(f\"\\nTotal weight of MST: {total_weight}\")"
   ]
  },
  {
   "cell_type": "code",
   "execution_count": null,
   "id": "603c8ea7-df67-46ad-9173-f3143cad0e09",
   "metadata": {},
   "outputs": [],
   "source": []
  }
 ],
 "metadata": {
  "kernelspec": {
   "display_name": "Python 3 (ipykernel)",
   "language": "python",
   "name": "python3"
  },
  "language_info": {
   "codemirror_mode": {
    "name": "ipython",
    "version": 3
   },
   "file_extension": ".py",
   "mimetype": "text/x-python",
   "name": "python",
   "nbconvert_exporter": "python",
   "pygments_lexer": "ipython3",
   "version": "3.11.8"
  }
 },
 "nbformat": 4,
 "nbformat_minor": 5
}
