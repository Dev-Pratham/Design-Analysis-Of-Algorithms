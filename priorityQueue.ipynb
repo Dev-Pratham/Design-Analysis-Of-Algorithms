{
 "cells": [
  {
   "cell_type": "code",
   "execution_count": 12,
   "id": "8a78df6f-de90-42ca-bad6-4e6acf8ac7a4",
   "metadata": {},
   "outputs": [
    {
     "name": "stdout",
     "output_type": "stream",
     "text": [
      "Peek (min element): 3\n",
      "Remove (min element): 3\n",
      "Remove (min element): 5\n",
      "Remove (min element): 10\n",
      "Remove (min element): 20\n",
      "Is the queue empty? True\n"
     ]
    }
   ],
   "source": [
    "arr = []\n",
    "\n",
    "def add(data):\n",
    "    # Add data at the last index\n",
    "    arr.append(data)\n",
    "    x = len(arr) - 1  # last index\n",
    "    parent = (x - 1) // 2  # parent index\n",
    "\n",
    "    # Heapify up: move the new element to its correct position in the heap\n",
    "    while x > 0 and arr[x] < arr[parent]:\n",
    "        arr[x], arr[parent] = arr[parent], arr[x]  # Swap values\n",
    "        x = parent\n",
    "        parent = (x - 1) // 2\n",
    "\n",
    "def heapify(i):\n",
    "    left = 2 * i + 1  # left child index\n",
    "    right = 2 * i + 2  # right child index\n",
    "    minIdx = i\n",
    "\n",
    "    # Find the smallest among root, left child, and right child\n",
    "    if left < len(arr) and arr[minIdx] > arr[left]:\n",
    "        minIdx = left\n",
    "\n",
    "    if right < len(arr) and arr[minIdx] > arr[right]:\n",
    "        minIdx = right\n",
    "\n",
    "    # If the smallest is not the root, swap and heapify the affected subtree\n",
    "    if minIdx != i:\n",
    "        arr[i], arr[minIdx] = arr[minIdx], arr[i]\n",
    "        heapify(minIdx)\n",
    "\n",
    "def remove():\n",
    "    if len(arr) == 0:\n",
    "        return \"Queue is empty!\"\n",
    "\n",
    "    # Remove the root (smallest element in min-heap)\n",
    "    data = arr[0]\n",
    "\n",
    "    # Swap the first and last elements\n",
    "    arr[0], arr[-1] = arr[-1], arr[0]\n",
    "\n",
    "    # Pop the last element (which is now the root)\n",
    "    arr.pop()\n",
    "\n",
    "    # Heapify from the root\n",
    "    heapify(0)\n",
    "\n",
    "    return data\n",
    "\n",
    "def peek():\n",
    "    if len(arr) > 0:\n",
    "        return arr[0]\n",
    "    return \"Queue is empty!\"\n",
    "\n",
    "# Example usage\n",
    "add(10)\n",
    "add(20)\n",
    "add(5)\n",
    "add(3)\n",
    "\n",
    "print(f\"Peek (min element): {peek()}\")  # Output: 3 (smallest element)\n",
    "\n",
    "print(f\"Remove (min element): {remove()}\")  # Output: 3\n",
    "print(f\"Remove (min element): {remove()}\")  # Output: 5\n",
    "print(f\"Remove (min element): {remove()}\")  # Output: 10\n",
    "print(f\"Remove (min element): {remove()}\")  # Output: 20\n",
    "print(f\"Is the queue empty? {arr == []}\")  # Output: True\n"
   ]
  },
  {
   "cell_type": "code",
   "execution_count": null,
   "id": "fb731029-8c5f-4c0c-b759-48b2343dcfff",
   "metadata": {},
   "outputs": [],
   "source": []
  }
 ],
 "metadata": {
  "kernelspec": {
   "display_name": "Python 3 (ipykernel)",
   "language": "python",
   "name": "python3"
  },
  "language_info": {
   "codemirror_mode": {
    "name": "ipython",
    "version": 3
   },
   "file_extension": ".py",
   "mimetype": "text/x-python",
   "name": "python",
   "nbconvert_exporter": "python",
   "pygments_lexer": "ipython3",
   "version": "3.11.8"
  }
 },
 "nbformat": 4,
 "nbformat_minor": 5
}
